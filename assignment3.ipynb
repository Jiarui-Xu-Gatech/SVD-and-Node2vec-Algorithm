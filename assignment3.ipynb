{
  "nbformat": 4,
  "nbformat_minor": 0,
  "metadata": {
    "colab": {
      "name": "assignment3.ipynb",
      "provenance": [],
      "collapsed_sections": []
    },
    "kernelspec": {
      "name": "python3",
      "display_name": "Python 3"
    }
  },
  "cells": [
    {
      "cell_type": "markdown",
      "metadata": {
        "id": "fOOjgRUGMJcf"
      },
      "source": [
        "# CSE 6240 Web Search and Text Mining\n",
        "## Homework 3: Node2vec and embeddings [10 points]\n",
        "\n",
        "This homework asks you to implement node2vec and use generated embeddings for downstream experiments."
      ]
    },
    {
      "cell_type": "markdown",
      "metadata": {
        "id": "z--ul1TbMP4D"
      },
      "source": [
        "Please read the following statement and abide by it. Please run the following cell substituting your student and user names to agree. "
      ]
    },
    {
      "cell_type": "code",
      "metadata": {
        "id": "ocbJvcfeL41E",
        "colab": {
          "base_uri": "https://localhost:8080/"
        },
        "outputId": "29ee68c1-a6be-4ada-bc20-015a01ebdd14"
      },
      "source": [
        "def author_honor_code (student_name='Jiarui_Xu', user_name='jxu605'):\n",
        "  print (f'I, {student_name} ({user_name}), state that I performed the tasks in this assignment following the Georgia Tech honor code(https://osi.gatech.edu/content/honor-code).')\n",
        "\n",
        "# print the honor code before submission (substitute your name and username)\n",
        "author_honor_code ()"
      ],
      "execution_count": null,
      "outputs": [
        {
          "output_type": "stream",
          "name": "stdout",
          "text": [
            "I, Jiarui_Xu (jxu605), state that I performed the tasks in this assignment following the Georgia Tech honor code(https://osi.gatech.edu/content/honor-code).\n"
          ]
        }
      ]
    },
    {
      "cell_type": "markdown",
      "metadata": {
        "id": "7Sf3opJiMbel"
      },
      "source": [
        "# Part 1: SVD and Node2vec [5.5 points]"
      ]
    },
    {
      "cell_type": "markdown",
      "source": [
        "Lets Mount the notebook on the google drive. This lets you access and load files from your drive. When you run the below cell, you will be asked to connect this notebook to your google drive. Select your google account and then select _Allow_ to let this notebook access content of your google drive."
      ],
      "metadata": {
        "id": "pSkKcM_EzKMa"
      }
    },
    {
      "cell_type": "code",
      "source": [
        "from google.colab import drive\n",
        "drive.mount('/content/drive')"
      ],
      "metadata": {
        "id": "8W615PkUzI6u",
        "colab": {
          "base_uri": "https://localhost:8080/"
        },
        "outputId": "e034750f-d9d6-4a03-e20c-5f24f29009bb"
      },
      "execution_count": null,
      "outputs": [
        {
          "output_type": "stream",
          "name": "stdout",
          "text": [
            "Mounted at /content/drive\n"
          ]
        }
      ]
    },
    {
      "cell_type": "markdown",
      "source": [
        "Set path to working directory. This is command line agrument. In python notebook, one can execute all the terminal commands by placing `!` or `%`in front of it. These are known as **magic commands**. Here we set the working directory to _HW3_ folder so that that we are able to access the datafiles with the help of relative path.\n",
        "To learn more about magic commands: [Read Documentation](https://ipython.readthedocs.io/en/stable/interactive/magics.html)\n"
      ],
      "metadata": {
        "id": "cUuYDKHvvFdY"
      }
    },
    {
      "cell_type": "markdown",
      "source": [
        "**NOTE**: If you have different path for HW3 in your google drive, change the variable **`path`** accordingly. "
      ],
      "metadata": {
        "id": "021IUWPeEveK"
      }
    },
    {
      "cell_type": "code",
      "source": [
        "path = '/content/drive/MyDrive/HW3' \n",
        "%cd $path"
      ],
      "metadata": {
        "id": "bR3RyCStvEaA",
        "colab": {
          "base_uri": "https://localhost:8080/"
        },
        "outputId": "72df459f-df35-4303-a7e4-e9dff266a196"
      },
      "execution_count": null,
      "outputs": [
        {
          "output_type": "stream",
          "name": "stdout",
          "text": [
            "/content/drive/MyDrive/HW3\n"
          ]
        }
      ]
    },
    {
      "cell_type": "code",
      "source": [
        "#Check if your present working directory has changed to the path specified in the previous cel.\n",
        "!pwd"
      ],
      "metadata": {
        "id": "hsuaukD9uwub",
        "colab": {
          "base_uri": "https://localhost:8080/"
        },
        "outputId": "f928e105-1964-4c4e-99dd-01d6a3bc4649"
      },
      "execution_count": null,
      "outputs": [
        {
          "output_type": "stream",
          "name": "stdout",
          "text": [
            "/content/drive/MyDrive/HW3\n"
          ]
        }
      ]
    },
    {
      "cell_type": "markdown",
      "metadata": {
        "id": "sTyRaWfJM2WP"
      },
      "source": [
        "## Note:\n",
        "It is important for you to understand what node2vec is before you start this part, refer to the slides and make sure you understand all key concepts. This part will ask you to generate embeddings using SVD and node2vec."
      ]
    },
    {
      "cell_type": "code",
      "metadata": {
        "id": "XZ0krC7aMTxU"
      },
      "source": [
        "import numpy as np\n",
        "import networkx as nx\n",
        "from collections import defaultdict\n",
        "import scipy.io\n",
        "from gensim.models import Word2Vec\n",
        "from gensim.models import KeyedVectors\n",
        "from scipy.sparse.linalg import svds\n",
        "from copy import deepcopy\n",
        "from collections import Counter"
      ],
      "execution_count": null,
      "outputs": []
    },
    {
      "cell_type": "code",
      "metadata": {
        "id": "EmJK1Pe6OjxH"
      },
      "source": [
        "# Input parameters for Part 1. \n",
        "# Do not modify this. There is a -5 point penalty if you modify this block of code.\n",
        "\n",
        "input='karate.edgelist' # Path for input edgelist\n",
        "\n",
        "p=0.25 # Return parameter\n",
        "\n",
        "q=0.25 # In-out parameter\n",
        "\n",
        "walks=10 # Walks per node\n",
        "\n",
        "length=80 # Length of each walk\n",
        "\n",
        "d=16 # Dimension of output embeddings\n",
        "\n",
        "window=10 # Window size for word2vec\n",
        "\n",
        "workers=1 # Number of workers to assign for random walk and word2vec\n",
        "\n",
        "directed=True # Specify if graph is directed."
      ],
      "execution_count": null,
      "outputs": []
    },
    {
      "cell_type": "code",
      "metadata": {
        "id": "1q7iHUGEN4GY"
      },
      "source": [
        "def read_graph(input_path, directed=True): \n",
        "    \"\"\"\n",
        "    Do not modify this function. There is a -5 point penalty if you modify this function.\n",
        "    \n",
        "    This function will be called later. Check below to see how this function is called.\n",
        "    Inputs: \n",
        "    input_path: file path\n",
        "    directed: True if you want a directed graph, False if you want a undirected graph\n",
        "\n",
        "    Return:\n",
        "    G: Graph(nx.graph)\n",
        "    labels: Label of each node (will be used in part 3 (node classification))\n",
        "    probs: Initial transition probabilities\n",
        "    \"\"\"\n",
        "    type=float('inf')\n",
        "    if(input_path.split('.')[-1] == 'edgelist'):\n",
        "        G = nx.read_edgelist(input_path, nodetype=int, data=(('weight',float),), create_using=nx.DiGraph())\n",
        "        type=0\n",
        "    elif(input_path.split('.')[-1] == 'mat'):  # used in part 3\n",
        "        edges = []\n",
        "        G = nx.Graph()\n",
        "        mat = scipy.io.loadmat(input_path)\n",
        "        nodes = mat['network'].tolil()\n",
        "        labels = mat['group'].tocoo()\n",
        "        \n",
        "        for start_node,end_nodes in enumerate(nodes.rows, start=0):\n",
        "            for end_node in end_nodes:\n",
        "                edges.append((start_node,end_node))\n",
        "        \n",
        "        G.add_edges_from(edges)\n",
        "        type=1\n",
        "    \n",
        "    G.name = input_path\n",
        "    if not directed:\n",
        "        G = G.to_undirected()\n",
        "        \n",
        "    probs = defaultdict(dict)\n",
        "    for node in G.nodes():\n",
        "        probs[str(node)] = dict()\n",
        "        \n",
        "    print(nx.info(G) + \"\\n---------------------------------------\\n\")\n",
        "    if type:\n",
        "      return G, labels, probs\n",
        "    else:\n",
        "      return G, probs"
      ],
      "execution_count": null,
      "outputs": []
    },
    {
      "cell_type": "markdown",
      "metadata": {
        "id": "Eg9-tqWCV4O2"
      },
      "source": [
        "### Part 1.1 Use SVD to generate embeddings"
      ]
    },
    {
      "cell_type": "markdown",
      "metadata": {
        "id": "R5KCiYRu_ty2"
      },
      "source": [
        "High level ideas of SVD can be found here: https://towardsdatascience.com/art-of-vector-representation-of-words-5e85c59fee5"
      ]
    },
    {
      "cell_type": "code",
      "metadata": {
        "id": "Ei0PztaoOWyz"
      },
      "source": [
        "def SVD_embedding(G, size=16):\n",
        "    \"\"\"\n",
        "    Use SVD to generate embeddings. \n",
        "    Inputs: \n",
        "    G: nx.graph\n",
        "    size: output_dimension of SVD\n",
        "\n",
        "    Steps to follow to generate SVD embeddings: \n",
        "    1. Generate adjacency matrix of G (nx.adjacency_matrix might be helpful)\n",
        "    2. Use the imported function svds to generate U, Sigma, V \n",
        "    3. Extract first k diagonals from Sigma\n",
        "    4. Embeddings will be U*np.sqrt(sigma) + V.T*np.sqrt(sigma)     (Use np.matmul for matrix multiplication)\n",
        "    5. Reorganize embeddings to `embeddings_dict`. The format of embeddings_dict is as follows: \n",
        "      embeddings_dict is a dictionary, where \n",
        "      the key is str(id of the node) and \n",
        "      the corresponding value is embedding of the node. The format of the embedding is a list. \n",
        "\n",
        "    Return:\n",
        "    embeddings_dict \n",
        "    \"\"\"\n",
        "    embeddings_dict=None\n",
        "    ## write your code below [1.5 points]##\n",
        "    embeddings_dict={}\n",
        "    A=nx.adjacency_matrix(G,dtype=np.double)\n",
        "    U, Sigma, V=svds(A,size)\n",
        "    Sigma=np.diag(Sigma)\n",
        "    embeddings=np.matmul(U,np.sqrt(Sigma))+np.matmul(V.T,np.sqrt(Sigma))\n",
        "    for i in range(1,len(G.nodes())+1):\n",
        "      embeddings_dict[str(list(G.nodes)[i-1])]=embeddings[i-1]\n",
        "    #####################################\n",
        "    return embeddings_dict"
      ],
      "execution_count": null,
      "outputs": []
    },
    {
      "cell_type": "code",
      "metadata": {
        "id": "ZWEXqvU2WCmG",
        "colab": {
          "base_uri": "https://localhost:8080/"
        },
        "outputId": "28242d0f-9407-44f0-dea2-816378d4e517"
      },
      "source": [
        "# read graph\n",
        "Graph, init_probabilities = read_graph(input, directed)\n",
        "# call SVD_embedding\n",
        "svd_embeddings=SVD_embedding(Graph,d)"
      ],
      "execution_count": null,
      "outputs": [
        {
          "output_type": "stream",
          "name": "stdout",
          "text": [
            "DiGraph named 'karate.edgelist' with 34 nodes and 77 edges\n",
            "---------------------------------------\n",
            "\n"
          ]
        }
      ]
    },
    {
      "cell_type": "code",
      "metadata": {
        "id": "nujyN45NXhpc",
        "colab": {
          "base_uri": "https://localhost:8080/"
        },
        "outputId": "c5b81a1e-06cb-4f7a-d28a-a27884e91bea"
      },
      "source": [
        "# This is for sanity check. The output of this line should be True if your code is correct.\n",
        "print(np.allclose([abs(x) for x in svd_embeddings['1']],[0.        ,  0.        ,  0.        ,  0.        ,  0.        ,\n",
        "                                                         0.08320129,  0.1800766 ,  0.16453194,  0.30643391,  0.18557105,\n",
        "                                                         0.36963018, 0.02398039,  0.18324411, 0.60218272, 1.59563477,\n",
        "                                                         0.68135488],atol=0.001))"
      ],
      "execution_count": null,
      "outputs": [
        {
          "output_type": "stream",
          "name": "stdout",
          "text": [
            "True\n"
          ]
        }
      ]
    },
    {
      "cell_type": "markdown",
      "metadata": {
        "id": "Z-xBQicXX2id"
      },
      "source": [
        "### Part 1.2 Use Node2vec to generate embeddings"
      ]
    },
    {
      "cell_type": "markdown",
      "metadata": {
        "id": "A-DQmGFXzK6n"
      },
      "source": [
        "Let $c_i$ be the $i$th node in the walk, the definition of normalized probability is given as:\n",
        "\n",
        "![p.png](data:image/png;base64,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)"
      ]
    },
    {
      "cell_type": "markdown",
      "metadata": {
        "id": "Xpy-2vRh1HNx"
      },
      "source": [
        "Where $x$ and $v$ are nodes, $π_{vx}$ is unnormalized transition probability between node $v$ and $x$, and $Z$ is a normalizing constant. $π_{vx}=\\alpha_{pq}(v,x) \\times W_{vx}$.\n",
        "\n",
        "$\\alpha_{pq}(v,x)=\\frac{1}{p},$ if $d_{vx}=0$\n",
        "\n",
        "$\\alpha_{pq}(v,x)=1,$ if $d_{vx}=1$\n",
        "\n",
        "$\\alpha_{pq}(v,x)=\\frac{1}{q},$ if $d_{vx}=2$\n",
        "\n",
        "where $W_{vx}$ is the weight of the edge from node $v$ to node $x$. We will consider $W_{vx}=1$ in this homework for all edges (v,x). \n",
        "\n",
        "Thus, $π_{vx} = \\alpha_{pq}(v,x)$ in our setting.  $\\alpha_{pq}(v,x)$ is the search bias between node $v$ and $x$, $p$ is the return parameter and $q$ is in-out parameter. $d_{vx}$ is the shortest distance from node $v$ to node $x$, the value of $d_{vx}$ is limited to [0,1,2]. \n",
        "\n"
      ]
    },
    {
      "cell_type": "markdown",
      "metadata": {
        "id": "YvmOv289zjGQ"
      },
      "source": [
        "Check the node representation learning slides and lecture from the class. "
      ]
    },
    {
      "cell_type": "code",
      "metadata": {
        "id": "cVG45wtuySie"
      },
      "source": [
        "def compute_transition_probs(G, probs, p, q):\n",
        "    \"\"\"\n",
        "    Inputs: \n",
        "    G: nx.graph\n",
        "    probs: this is a dictionary of transition scores that you will fill. \n",
        "    p: the return parameter\n",
        "    q: the in-out parameter\n",
        "    \n",
        "    Follow the formula above to create transition_probs. \n",
        "\n",
        "    Steps to follow: \n",
        "    1. Iterate over all nodes s in G.\n",
        "    2. In each iteration, iterate over all neighbors c of node s.\n",
        "    3. For every neighbor d of node c, calculate the probability of a random walker\n",
        "       visiting node d from node c if the random walker was on node s in the previous step. \n",
        "    4. Store the probability values in transition_probs. \n",
        "\n",
        "    Return: \n",
        "    transition_probs: This is a dictionary of transition probabilities during the random walk. \n",
        "    This is a nested dictionary.  \n",
        "    transition_probs[s][c] = a list of normalized probability scores of visiting node d from node s via node c. \n",
        "    \n",
        "    The format of transition_probs is given after this cell. \n",
        "    \"\"\"\n",
        "    transition_probs = deepcopy(probs)\n",
        "    ## write your code below [1.5 points]##\n",
        "    probability=[]\n",
        "    for s in G.nodes:\n",
        "      for c in G.neighbors(s):\n",
        "        probability=[]\n",
        "        for d in G.neighbors(c):\n",
        "          if d==s:\n",
        "            probability.append(1/p)\n",
        "          elif d not in G.neighbors(s):\n",
        "            probability.append(1/q)\n",
        "          else:\n",
        "            probability.append(1)\n",
        "        if not np.sum(probability)==0:\n",
        "          probability=probability/np.sum(probability)\n",
        "          probability=probability.tolist()\n",
        "        transition_probs[str(s)][str(c)]=probability\n",
        "    ##########################\n",
        "    return transition_probs"
      ],
      "execution_count": null,
      "outputs": []
    },
    {
      "cell_type": "markdown",
      "metadata": {
        "id": "_0yqNvLsyOFS"
      },
      "source": [
        "The format of transition_probs after you called compute_transition_probs should be:\n",
        "\n",
        "![trans_probs.png](data:image/png;base64,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)"
      ]
    },
    {
      "cell_type": "code",
      "metadata": {
        "id": "bHDg4OGP5wJy"
      },
      "source": [
        "def generate_walks(G, transition_probs, walks_per_node, length):\n",
        "    \"\"\"\n",
        "    Generate biased random walks based on probabilities you computed in the function compute_transition_probs. \n",
        "    Inputs:\n",
        "    G: nx.graph\n",
        "    transition_probs: Dictionary of transition probabilities during the random walk \n",
        "    walks_per_node: Length of walks for each node in graph G\n",
        "    length: Length of each walk\n",
        "\n",
        "    Steps to follow: \n",
        "    1. Iterate over all nodes s in G. \n",
        "    2. In every random walk starting from node s, do the following:\n",
        "       2.1 For the first step of the walk, directly call np.random.choice over all the neighbors of node s (without using p). This will be the next node in the current random walk.\n",
        "       2.2 In the next steps of the walk, use transition_probs to find the next node in the random walk. \n",
        "       Hint: transition_probs[walk[-2]][walk[-1]] will be the transition probabilities of taking the next step in the random walk. \n",
        "       2.3 Store all the nodes of the random walk in a list. Store nodes in str format, not int format. \n",
        "    3. Store all the random walks in a list. \n",
        "    4. Shuffle the list of all random walks. Use np.random.shuffle. This is to ensure there is no bias because of the node ordering. Do not shuffle the nodes within a random walk. \n",
        "    5. Return the list of all random walks. \n",
        "\n",
        "    Return:\n",
        "    walks(list of list of str: [[str],[str,str...]]): Simulated walks from each node\n",
        "    \"\"\"\n",
        "    np.random.seed(0)\n",
        "    walks = []\n",
        "    ## write code below [1.5 points]##\n",
        "    for s in G.nodes:\n",
        "      if length<=1:\n",
        "        for j in range(walks_per_node):\n",
        "          walks.append([str(s)])\n",
        "      elif length<=2:\n",
        "        for j in range(walks_per_node):\n",
        "          if not len(list(G.neighbors(s)))==0:\n",
        "            walks.append([str(s),str(np.random.choice(G.neighbors(s)))])\n",
        "          else:\n",
        "            continue\n",
        "      else:\n",
        "        for j in range(walks_per_node):\n",
        "          each_walk=[]\n",
        "          each_walk.append(str(s))\n",
        "          if not len(list(G.neighbors(s)))==0:\n",
        "            c=np.random.choice(list(G.neighbors(s)))\n",
        "            each_walk.append(str(c))\n",
        "            if not len(list(G.neighbors(c)))==0:\n",
        "              for i in range(length-2):\n",
        "                d=np.random.choice(list(G.neighbors(int(each_walk[-1]))),p=transition_probs[each_walk[-2]][each_walk[-1]])\n",
        "                each_walk.append(str(d))\n",
        "                if len(list(G.neighbors(d)))==0:\n",
        "                  break\n",
        "          else:\n",
        "            continue\n",
        "          walks.append(each_walk)\n",
        "    np.random.shuffle(walks)\n",
        "    ################################\n",
        "    return walks"
      ],
      "execution_count": null,
      "outputs": []
    },
    {
      "cell_type": "code",
      "metadata": {
        "id": "fgmntOm5ODkt"
      },
      "source": [
        "def generate_embeddings(walks, dimensions, window_size, num_workers, p, q):\n",
        "    \"\"\"\n",
        "    Do not modify this function. There is a -5 point penalty if you modify this function.\n",
        "\n",
        "    Here we use word2vec code to generate node embeddings from the random walks. \n",
        "    Please refer to https://radimrehurek.com/gensim/models/word2vec.html for more information about word2vec.\n",
        "    \n",
        "    walks: Simulated random walks\n",
        "    dimensions: Output dimension of node embeddings\n",
        "    window_size: Window size for word2vec\n",
        "    num_workers: Number of workers to assign for random walk and word2vec\n",
        "    p: Return parameter\n",
        "    q: In out parameterProfessor, since this homework goes live Feb 8, \n",
        "    \n",
        "    Return:\n",
        "    model: the learned word2vec model\n",
        "    embeddings: embeddings of all nodes generated using the word2vec model\n",
        "    \"\"\"\n",
        "    model=None\n",
        "    embeddings=None\n",
        "    model = Word2Vec(walks, size=dimensions, window=window_size, min_count=0, sg=1, workers=num_workers,seed=0)\n",
        "    embeddings = model.wv\n",
        "\n",
        "    return model, embeddings"
      ],
      "execution_count": null,
      "outputs": []
    },
    {
      "cell_type": "code",
      "metadata": {
        "id": "PomT3IQjP7L7"
      },
      "source": [
        "def Node2vec(input, directed, p, q, walks, length, workers, d, window):\n",
        "  \"\"\"\n",
        "  Generate embeddings for node2vec using the above functions you just implemented. \n",
        "  Inputs:\n",
        "  input: Path for input\n",
        "  directed: True if you want a directed graph, False if you want a undirected graph\n",
        "  p: Return parameter\n",
        "  q: In out parameter\n",
        "  walks: Length of walks for each node in graph G\n",
        "  length: Length of each walk\n",
        "  workers: Number of workers to assign for random walk and word2vec\n",
        "  d: Output dimension of node embeddings\n",
        "  window: Window size for word2vec\n",
        "\n",
        "  Steps to follow:\n",
        "  1. Call compute_transition_probs.\n",
        "  2. Call generate_walks.\n",
        "  3. Call generate_embeddings. \n",
        "\n",
        "  Return:\n",
        "  walk: simulated walks from each node\n",
        "  model: word2vec model\n",
        "  node2vec_embeddings: embeddings generated from the model\n",
        "  \"\"\"\n",
        "  try:\n",
        "    Graph, probs = read_graph(input, directed)\n",
        "  except:\n",
        "    Graph, _, probs = read_graph(input, directed)\n",
        "  model=None\n",
        "  node2vec_embeddings=None\n",
        "  ## write your code below [1 points]##\n",
        "  G,probs=read_graph(input, directed)\n",
        "  transition_probs=compute_transition_probs(G, probs, p, q)\n",
        "  walk=generate_walks(G, transition_probs, walks, length)\n",
        "  model, node2vec_embeddings=generate_embeddings(walk, d, window, workers, p, q)\n",
        "  ####################################### \n",
        "  return walk, model, node2vec_embeddings"
      ],
      "execution_count": null,
      "outputs": []
    },
    {
      "cell_type": "code",
      "metadata": {
        "id": "C_st2gWkRFaH",
        "colab": {
          "base_uri": "https://localhost:8080/"
        },
        "outputId": "3be6dc12-6378-431d-8fb8-e0c92a6cc343"
      },
      "source": [
        "# This is for sanity check. The output of the second line should be True if your code is correct.\n",
        "walk, model, node2vec_embeddings = Node2vec(input, directed, p, q, walks, length, workers, d, window)\n",
        "print(walk[0]==['15', '33', '34'])"
      ],
      "execution_count": null,
      "outputs": [
        {
          "output_type": "stream",
          "name": "stdout",
          "text": [
            "DiGraph named 'karate.edgelist' with 34 nodes and 77 edges\n",
            "---------------------------------------\n",
            "\n",
            "DiGraph named 'karate.edgelist' with 34 nodes and 77 edges\n",
            "---------------------------------------\n",
            "\n",
            "True\n"
          ]
        }
      ]
    },
    {
      "cell_type": "markdown",
      "metadata": {
        "id": "Uukp10kNS86z"
      },
      "source": [
        "# Part 2: Using embeddings for community detection [1.5 points]"
      ]
    },
    {
      "cell_type": "markdown",
      "metadata": {
        "id": "Mg3DSsSVEiLL"
      },
      "source": [
        "### Part 2.1 Generate node labels using community detection."
      ]
    },
    {
      "cell_type": "markdown",
      "metadata": {
        "id": "1pDoHcWzTwjk"
      },
      "source": [
        "Note: For this part, we will let you generate embeddings from your functions in Part 1. Then you will use K-Means clustering for community detection. "
      ]
    },
    {
      "cell_type": "code",
      "metadata": {
        "id": "zKiM_1DtTGcA"
      },
      "source": [
        "import networkx as nx\n",
        "import matplotlib.pyplot as plt\n",
        "import pandas as pd\n",
        "import numpy as np\n",
        "import itertools\n",
        "from sklearn.cluster import KMeans\n",
        "%matplotlib inline"
      ],
      "execution_count": null,
      "outputs": []
    },
    {
      "cell_type": "code",
      "metadata": {
        "id": "3LIXaBgkWMV0",
        "colab": {
          "base_uri": "https://localhost:8080/",
          "height": 319
        },
        "outputId": "e1028ea7-fe0f-4f22-af6a-e27f08b12eaa"
      },
      "source": [
        "G = nx.karate_club_graph()\n",
        "nx.draw(G, with_labels = True, pos=nx.spring_layout(G, seed=0))"
      ],
      "execution_count": null,
      "outputs": [
        {
          "output_type": "display_data",
          "data": {
            "image/png": "[encoded data removed]",
            "text/plain": [
              "<Figure size 432x288 with 1 Axes>"
            ]
          },
          "metadata": {}
        }
      ]
    },
    {
      "cell_type": "code",
      "metadata": {
        "id": "Q7-PzFp6Yi_h",
        "colab": {
          "base_uri": "https://localhost:8080/"
        },
        "outputId": "9a4f0b2b-c6d0-45ec-88c4-587430819af3"
      },
      "source": [
        "len(G.nodes), len(G.edges)"
      ],
      "execution_count": null,
      "outputs": [
        {
          "output_type": "execute_result",
          "data": {
            "text/plain": [
              "(34, 78)"
            ]
          },
          "metadata": {},
          "execution_count": 116
        }
      ]
    },
    {
      "cell_type": "code",
      "metadata": {
        "id": "VEMBsEUrTIx3"
      },
      "source": [
        "# parameters for this part.\n",
        "# Do not modify this. There is a -5 point penalty if you modify this block of code. \n",
        "\n",
        "p=1 # Return parameter\n",
        "\n",
        "q=1 # In-out parameter\n",
        "\n",
        "walks=10 # Walks per node\n",
        "\n",
        "length=80 # Length of each walk\n",
        "\n",
        "d=16 # Dimension of output embeddings\n",
        "\n",
        "window=10 # Window size for word2vec\n",
        "\n",
        "workers=2 # Number of workers to assign for random walk and word2vec\n",
        "\n",
        "directed='directed' # Specify if graph is directed. Default is undirected\n",
        "\n",
        "# Give dictionary of node positions to plot in the graph"
      ],
      "execution_count": null,
      "outputs": []
    },
    {
      "cell_type": "code",
      "metadata": {
        "id": "ggvCrtTlUtG1"
      },
      "source": [
        "def community_detection(G):\n",
        "  \"\"\"\n",
        "  Input: \n",
        "  G: nx.graph\n",
        "\n",
        "  Steps to follow: \n",
        "  1. Generate embeddings for nodes in graph G using node2vec. \n",
        "  2. Transform node embeddings to an array using np.asarray. This will give a matrix where each row is a node embedding array.\n",
        "  3. Call the kmeans function using this matrix as input. \n",
        "  4. Use kmeans.predict to assign nodes to clusters. This will generate an array. Return this array. \n",
        "\n",
        "  Return:\n",
        "  labels: array with each item corresponding to the label of each node. \n",
        "  \n",
        "  \"\"\"\n",
        "  kmeans = KMeans(n_clusters=2, random_state=0)\n",
        "  probs = defaultdict(dict)\n",
        "  for node in G.nodes():\n",
        "    probs[node] = dict()\n",
        "\n",
        "  ## write your code below [1 points]##\n",
        "  transition_probs=compute_transition_probs(G, probs, p, q)\n",
        "  walk=generate_walks(G, transition_probs, walks, length)\n",
        "  model, node2vec_embeddings=generate_embeddings(walk, d, window, workers, p, q)\n",
        "  embeddings=[]\n",
        "  for node in G.nodes:\n",
        "    embeddings.append(node2vec_embeddings[str(node)])\n",
        "  embeddings=np.asarray(embeddings)\n",
        "  kmeans=KMeans(n_clusters=2, random_state=0).fit(embeddings)\n",
        "  labels=kmeans.predict(embeddings)\n",
        "  #######################################\n",
        "  return labels"
      ],
      "execution_count": null,
      "outputs": []
    },
    {
      "cell_type": "code",
      "metadata": {
        "id": "P6lhE6wra89J",
        "colab": {
          "base_uri": "https://localhost:8080/"
        },
        "outputId": "fb86967a-09e5-4010-86af-1e67cc5c7e86"
      },
      "source": [
        "# Call the community_detection function. \n",
        "labels=community_detection(G)\n",
        "Counter(labels)"
      ],
      "execution_count": null,
      "outputs": [
        {
          "output_type": "execute_result",
          "data": {
            "text/plain": [
              "Counter({0: 20, 1: 14})"
            ]
          },
          "metadata": {},
          "execution_count": 136
        }
      ]
    },
    {
      "cell_type": "code",
      "metadata": {
        "id": "5lE-1qM0bpKE",
        "colab": {
          "base_uri": "https://localhost:8080/"
        },
        "outputId": "bedf579b-7754-4780-fd90-a00a5c620ea1"
      },
      "source": [
        "# This is for sanity check. The output should be True if your code is correct. \n",
        "expected=set((20,14))\n",
        "\n",
        "def check(labels):\n",
        "  d=Counter(labels)\n",
        "  for value in d.values():\n",
        "    if value in expected:\n",
        "      expected.remove(value)\n",
        "      continue\n",
        "    return False\n",
        "  return True\n",
        "\n",
        "check(labels)"
      ],
      "execution_count": null,
      "outputs": [
        {
          "output_type": "execute_result",
          "data": {
            "text/plain": [
              "True"
            ]
          },
          "metadata": {},
          "execution_count": 137
        }
      ]
    },
    {
      "cell_type": "markdown",
      "metadata": {
        "id": "aPV9tAyWEdIa"
      },
      "source": [
        "### Part 2.2 Plot the graph to show communities."
      ]
    },
    {
      "cell_type": "code",
      "metadata": {
        "id": "xtu9NLm5WUcR"
      },
      "source": [
        "def plot_community(G, labels):\n",
        "  \"\"\"\n",
        "  Plot the graph with labels in blue and red. \n",
        "\n",
        "  Input:\n",
        "  G: nx.graph\n",
        "  labels: Array with each item corresponding to the label of each node.\n",
        "\n",
        "  Return:\n",
        "  none\n",
        "\n",
        "  Steps to follow:\n",
        "  1. Create color_map as an empty list. Initialize iters as 0.\n",
        "  2. For each node in G, check label of that node, if labels[iters]==0, set color to 'blue' else 'red' ,then append color to color_map let iters+1 for the next node.\n",
        "  3. Use nx.draw to draw the plot, set node_color=color_map, with_labels=True, pos=nx.spring_layout(G, seed=0)\n",
        "\n",
        "  \"\"\"\n",
        "  ## write your code below [0.5 points]##\n",
        "  color_map=[]\n",
        "  iters=0\n",
        "  for node in G.nodes:\n",
        "    if labels[iters]==0:\n",
        "      color_map.append('blue')\n",
        "    else:\n",
        "      color_map.append('red')\n",
        "    iters+=1\n",
        "  nx.draw(G, node_color=color_map, with_labels=True, pos=nx.spring_layout(G, seed=0))\n",
        "  ############################"
      ],
      "execution_count": null,
      "outputs": []
    },
    {
      "cell_type": "code",
      "metadata": {
        "id": "5U7Hw7jfbK5F",
        "colab": {
          "base_uri": "https://localhost:8080/",
          "height": 319
        },
        "outputId": "586e886f-1f4f-48d1-8553-a87df7d60da1"
      },
      "source": [
        "plot_community(G, labels)"
      ],
      "execution_count": null,
      "outputs": [
        {
          "output_type": "display_data",
          "data": {
            "image/png": "[encoded data removed]",
            "text/plain": [
              "<Figure size 432x288 with 1 Axes>"
            ]
          },
          "metadata": {}
        }
      ]
    },
    {
      "cell_type": "markdown",
      "metadata": {
        "id": "bg0-CD-zbnc9"
      },
      "source": [
        "# Part 3: Using embeddings for node classification [3 points]"
      ]
    },
    {
      "cell_type": "markdown",
      "metadata": {
        "id": "2SIIiZGmcMw5"
      },
      "source": [
        "Note: For this part, you will generate node embeddings from your functions in Part 1 and do a multi-label prediction. The idea comes from https://cs.stanford.edu/~jure/pubs/node2vec-kdd16.pdf. You should see similar results as shown in this paper."
      ]
    },
    {
      "cell_type": "code",
      "metadata": {
        "id": "qMg-nSiScLzn"
      },
      "source": [
        "import scipy.io\n",
        "import numpy as np\n",
        "import matplotlib.pyplot as plt\n",
        "from gensim.models import KeyedVectors\n",
        "from sklearn.multiclass import OneVsRestClassifier\n",
        "from sklearn.linear_model import LogisticRegression\n",
        "from sklearn.model_selection import train_test_split\n",
        "from sklearn.preprocessing import MultiLabelBinarizer\n",
        "from sklearn.neural_network import MLPClassifier\n",
        "from sklearn.metrics import f1_score\n",
        "from google.colab import files\n",
        "\n",
        "import warnings\n",
        "warnings.filterwarnings('ignore') "
      ],
      "execution_count": null,
      "outputs": []
    },
    {
      "cell_type": "code",
      "metadata": {
        "id": "2BokCGdgdj0c"
      },
      "source": [
        "# Parameters for this part. \n",
        "# Do not modify this. There is a -5 point penalty if you modify this block of code. \n",
        "\n",
        "input='blogcatalog.mat' # Path for input edgelist\n",
        "\n",
        "p=0.25 # Return parameter\n",
        "\n",
        "q=0.25 # In-out parameter\n",
        "\n",
        "walks=10 # Walks per node\n",
        "\n",
        "length=80 # Length of each walk\n",
        "\n",
        "d=16 # Dimension of output embeddings\n",
        "\n",
        "window=10 # Window size for word2vec\n",
        "\n",
        "workers=4 # Number of workers to assign for random walk and word2vec\n",
        "\n",
        "directed=True # Specify if graph is directed. Default is undirected"
      ],
      "execution_count": null,
      "outputs": []
    },
    {
      "cell_type": "code",
      "metadata": {
        "id": "-DajkbYZd_eA"
      },
      "source": [
        "def sparse2array_inv_binarize(y):\n",
        "    \"\"\"\n",
        "    Do not modify. This function transforms y. \n",
        "    \"\"\"\n",
        "    mlb = MultiLabelBinarizer(classes=np.arange(y.shape[1]))\n",
        "    mlb.fit(y)\n",
        "    y_ = mlb.inverse_transform(y.toarray())\n",
        "    return y_\n",
        "\n",
        "def custom_predict(classifier, X_test, y_test):\n",
        "    \"\"\"\n",
        "    Do not modify. This function predicts using a given classifier. \n",
        "    \"\"\"\n",
        "    \n",
        "    y_test_ = sparse2array_inv_binarize(y_test)\n",
        "    num_predictions = [len(item) for item in y_test_]\n",
        "    \n",
        "    probabilities = classifier.predict_proba(X_test)\n",
        "    sorted_indices_probs = probabilities.argsort()\n",
        "    \n",
        "    preds = [sorted_indices[-num:].tolist() for (sorted_indices,num) in zip(sorted_indices_probs,num_predictions)]\n",
        "    \n",
        "    return preds\n",
        "\n",
        "def compute_metrics(y_test, preds):\n",
        "    \"\"\"\n",
        "    compute microf1 and macrof1 based on y_test and preds, \n",
        "    for more information please refer to https://scikit-learn.org/stable/modules/generated/sklearn.metrics.f1_score.html\n",
        "\n",
        "    Input:\n",
        "    y_test: Ground truth\n",
        "    preds: Output of custom_predict function\n",
        "\n",
        "    Output:\n",
        "    microF1: Array of micro f1 scores.\n",
        "    macroF1: Array of macro f1 scores.\n",
        "\n",
        "    Steps to follow:\n",
        "    1. Call f1_score to calculate micro f1 score. \n",
        "    2. Call f1_score to calculate macro f1 score. \n",
        "\n",
        "    \"\"\"\n",
        "    \n",
        "    mlb = MultiLabelBinarizer(classes=np.arange(y_test.shape[1]))\n",
        "    mlb.fit(preds)\n",
        "    preds = mlb.transform(preds)\n",
        "\n",
        "    y_test = sparse2array_inv_binarize(y_test)\n",
        "    y_test = mlb.transform(y_test)\n",
        "    ## get your microF1 and macroF1 score here [0.5 points]##\n",
        "    microF1=f1_score(y_test, preds, average='micro')\n",
        "    macroF1=f1_score(y_test, preds, average='macro')\n",
        "    #############################################\n",
        "    return microF1, macroF1\n",
        "\n",
        "def plot_graph(trainsize, res):\n",
        "    \"\"\"\n",
        "    Do not modify. This function generates plots. \n",
        "    \"\"\"\n",
        "    micro, = plt.plot(trainsize, [a[0] for a in res], c='b', marker = 's', label='Micro F1')\n",
        "    macro, = plt.plot(trainsize, [a[1] for a in res], c='r', marker = 'x', label='Macro F1')\n",
        "    plt.legend(handles=[micro,macro])\n",
        "    plt.grid(True)\n",
        "    plt.xlabel('Training Size')\n",
        "    plt.ylabel('F1 score')\n",
        "    plt.show()\n",
        "    \n",
        "    return\n",
        "\n",
        "def evaluate(G, labels, word_vec):\n",
        "    \"\"\"\n",
        "    Input: \n",
        "    G: graph\n",
        "    labels: labels for training \n",
        "    word_vec:  node embeddings in dictionary format. Generated from svd_embedding and Node2vec functions.  \n",
        "\n",
        "    Return:\n",
        "    all_results(dictionary with keys to be classifier name and values to be lists of scores [microF1, macroF1] under different training_set_size)\n",
        "\n",
        "    Steps to follow in code block 1 below: \n",
        "    1. Transform node embeddings to an array using np.asarray. This will give a matrix where each row is a node embedding array.\n",
        "\n",
        "    Steps to follow in code block 2 below: \n",
        "    1. Initialze results as a list.\n",
        "    2. For every training size in training_set_size, use train_test_split to generate X_train, X_test, y_train, y_test, set random_state=42\n",
        "    3. Fit X_train, y_train to the model\n",
        "    4. Call custom_predict function and get predictions\n",
        "    5. Call compute_metrics and get microF1 and macroF1\n",
        "    6. Append [microF1,macroF1] to results\n",
        "\n",
        "    \"\"\"\n",
        "    classifiers = {'Logistic_Regression': OneVsRestClassifier(LogisticRegression())}\n",
        "    \n",
        "    ## transform embedding to array [0.1 points]. This is code block 1. ##\n",
        "    X=[]\n",
        "    G_nodes_list=list(G.nodes)\n",
        "    for i in range(len(G_nodes_list)):\n",
        "      X.append(np.squeeze(word_vec[str(i)]))\n",
        "    X=np.asarray(X)\n",
        "    ##############################################\n",
        "    \n",
        "    training_set_size = [0.1, 0.2, 0.3, 0.4, 0.5, 0.6, 0.7, 0.8, 0.9]\n",
        "    all_results = {}\n",
        "    \n",
        "    for (name,model) in classifiers.items():\n",
        "      results = []\n",
        "      for training_size in training_set_size:\n",
        "        ## write your code below [0.9 points]. This is code block 2. ##        \n",
        "        X_train, X_test, y_train, y_test = train_test_split(X, labels, train_size=training_size, random_state=42)\n",
        "        classifier=classifiers['Logistic_Regression'].fit(X_train, y_train)\n",
        "        predictions=custom_predict(classifier, X_test, y_test)\n",
        "        microF1, macroF1=compute_metrics(y_test, predictions)\n",
        "        results.append([microF1,macroF1])\n",
        "        #######################################\n",
        "        all_results[name] = results\n",
        "    return all_results"
      ],
      "execution_count": null,
      "outputs": []
    },
    {
      "cell_type": "code",
      "metadata": {
        "id": "zXgoR-MmiDXt"
      },
      "source": [
        "# Do not modify. \n",
        "# This cell will evaluate logistic regression classifer and get the plot of f1 scores\n",
        "\n",
        "def eval_classifier(G, subs_coo, word_vec):\n",
        "    print(\"\\t**Evaluating classifier performance with the embeddings**\")\n",
        "\n",
        "    results = evaluate(G, subs_coo, word_vec)\n",
        "    \n",
        "    print(\"\\n Evaluation completed using the following:\")\n",
        "    for i in results.keys():\n",
        "        print(\"--> \",i)\n",
        "    \n",
        "    print(\"\\nPrinting evaluation results : \")\n",
        "    trainsize = [0.1, 0.2, 0.3, 0.4, 0.5, 0.6, 0.7, 0.8, 0.9]\n",
        "    for (name,res) in results.items():\n",
        "        print(\"\\n\\nClassifier : \",name)\n",
        "        for (tr_size,res_) in zip(trainsize,res):\n",
        "            print(\"\\tTraining size : \",tr_size)\n",
        "            print(\"\\t\\tMicro F1: \",res_[0])\n",
        "            print(\"\\t\\tMacro F1: \",res_[1])\n",
        "        \n",
        "        avg = np.average(res,axis=0)\n",
        "        print(\"\\t---------------------------------------\")\n",
        "        print(\"\\t Average Micro F1 : \",avg[0])\n",
        "        print(\"\\t Average Macro F1 : \",avg[1])\n",
        "        plot_graph(trainsize, res)"
      ],
      "execution_count": null,
      "outputs": []
    },
    {
      "cell_type": "code",
      "metadata": {
        "id": "oJDudSdUieoQ",
        "colab": {
          "base_uri": "https://localhost:8080/"
        },
        "outputId": "8bdea42b-d5b0-41e8-b934-0392c7b52545"
      },
      "source": [
        "# Generate SVD embedding of nodes \n",
        "\n",
        "# read graph\n",
        "G, labels, init_probabilities = read_graph(input, directed)\n",
        "# generate SVD embedding \n",
        "svd_embeddings=SVD_embedding(G, d) "
      ],
      "execution_count": null,
      "outputs": [
        {
          "output_type": "stream",
          "name": "stdout",
          "text": [
            "Graph named 'blogcatalog.mat' with 10312 nodes and 333983 edges\n",
            "---------------------------------------\n",
            "\n"
          ]
        }
      ]
    },
    {
      "cell_type": "code",
      "metadata": {
        "id": "NcCRjApnjuxe",
        "colab": {
          "base_uri": "https://localhost:8080/",
          "height": 982
        },
        "outputId": "83748c13-f3a8-4a2b-fa64-09f032d44bfb"
      },
      "source": [
        "# Plot the classifier performance when trained using SVD embeddings\n",
        "eval_classifier(G, labels, svd_embeddings)"
      ],
      "execution_count": null,
      "outputs": [
        {
          "output_type": "stream",
          "name": "stdout",
          "text": [
            "\t**Evaluating classifier performance with the embeddings**\n",
            "\n",
            " Evaluation completed using the following:\n",
            "-->  Logistic_Regression\n",
            "\n",
            "Printing evaluation results : \n",
            "\n",
            "\n",
            "Classifier :  Logistic_Regression\n",
            "\tTraining size :  0.1\n",
            "\t\tMicro F1:  0.19675021077642368\n",
            "\t\tMacro F1:  0.04749904290253921\n",
            "\tTraining size :  0.2\n",
            "\t\tMicro F1:  0.20252289614653532\n",
            "\t\tMacro F1:  0.05341010739391949\n",
            "\tTraining size :  0.3\n",
            "\t\tMicro F1:  0.2042755344418052\n",
            "\t\tMacro F1:  0.05442100741686574\n",
            "\tTraining size :  0.4\n",
            "\t\tMicro F1:  0.20851112905085917\n",
            "\t\tMacro F1:  0.05909236904300939\n",
            "\tTraining size :  0.5\n",
            "\t\tMicro F1:  0.20873180873180874\n",
            "\t\tMacro F1:  0.05988170767424111\n",
            "\tTraining size :  0.6\n",
            "\t\tMicro F1:  0.21705963938973646\n",
            "\t\tMacro F1:  0.06414294212983467\n",
            "\tTraining size :  0.7\n",
            "\t\tMicro F1:  0.21746216530849827\n",
            "\t\tMacro F1:  0.06380978395034609\n",
            "\tTraining size :  0.8\n",
            "\t\tMicro F1:  0.21670744494931843\n",
            "\t\tMacro F1:  0.06207492025982942\n",
            "\tTraining size :  0.9\n",
            "\t\tMicro F1:  0.22537207654146\n",
            "\t\tMacro F1:  0.06405918018826923\n",
            "\t---------------------------------------\n",
            "\t Average Micro F1 :  0.2108214339262717\n",
            "\t Average Macro F1 :  0.05871011788431715\n"
          ]
        },
        {
          "output_type": "display_data",
          "data": {
            "image/png": "[encoded data removed]",
            "text/plain": [
              "<Figure size 432x288 with 1 Axes>"
            ]
          },
          "metadata": {
            "needs_background": "light"
          }
        }
      ]
    },
    {
      "cell_type": "code",
      "source": [
        "# Load the pre-trained embeddings generated via node2vec for embedding size d=16: pretrained_node2vec_embeddings_16.emb. \n",
        "# We are providing the pre-trained embedding since generating the embeddings takes over an hour. \n",
        "# So, we generated the embeddings using the same functions in Part 1 and are providing it to you. \n",
        "# You don't have to run the code again to generate the embeddings and can use the pretrained embeddings directly by running this cell. \n",
        "\n",
        "node2vec_emb = KeyedVectors.load_word2vec_format('pretrained_node2vec_embeddings_16.emb')"
      ],
      "metadata": {
        "id": "duUiflSrZFbg"
      },
      "execution_count": null,
      "outputs": []
    },
    {
      "cell_type": "code",
      "source": [
        "# Plot the classifier performance when trained using node2vec embeddings\n",
        "eval_classifier(G, labels, node2vec_emb)"
      ],
      "metadata": {
        "id": "Hpd9IKDDZFHu",
        "colab": {
          "base_uri": "https://localhost:8080/",
          "height": 982
        },
        "outputId": "59cbffc2-452f-4bec-c662-00097b15a6f4"
      },
      "execution_count": null,
      "outputs": [
        {
          "output_type": "stream",
          "name": "stdout",
          "text": [
            "\t**Evaluating classifier performance with the embeddings**\n",
            "\n",
            " Evaluation completed using the following:\n",
            "-->  Logistic_Regression\n",
            "\n",
            "Printing evaluation results : \n",
            "\n",
            "\n",
            "Classifier :  Logistic_Regression\n",
            "\tTraining size :  0.1\n",
            "\t\tMicro F1:  0.3468996704223193\n",
            "\t\tMacro F1:  0.17139793349605487\n",
            "\tTraining size :  0.2\n",
            "\t\tMicro F1:  0.35813029203386904\n",
            "\t\tMacro F1:  0.17938673795980473\n",
            "\tTraining size :  0.3\n",
            "\t\tMicro F1:  0.35906571654790176\n",
            "\t\tMacro F1:  0.17966038370036197\n",
            "\tTraining size :  0.4\n",
            "\t\tMicro F1:  0.3593587821473879\n",
            "\t\tMacro F1:  0.18119684749117995\n",
            "\tTraining size :  0.5\n",
            "\t\tMicro F1:  0.36077616077616076\n",
            "\t\tMacro F1:  0.18466904681857746\n",
            "\tTraining size :  0.6\n",
            "\t\tMicro F1:  0.36355755894590847\n",
            "\t\tMacro F1:  0.18639523057845425\n",
            "\tTraining size :  0.7\n",
            "\t\tMicro F1:  0.3627473806752037\n",
            "\t\tMacro F1:  0.18649088836664854\n",
            "\tTraining size :  0.8\n",
            "\t\tMicro F1:  0.3649073750436911\n",
            "\t\tMacro F1:  0.18708540501203033\n",
            "\tTraining size :  0.9\n",
            "\t\tMicro F1:  0.37987243090007095\n",
            "\t\tMacro F1:  0.19265795504669575\n",
            "\t---------------------------------------\n",
            "\t Average Micro F1 :  0.361701707499168\n",
            "\t Average Macro F1 :  0.18321560316331198\n"
          ]
        },
        {
          "output_type": "display_data",
          "data": {
            "image/png": "[encoded data removed]",
            "text/plain": [
              "<Figure size 432x288 with 1 Axes>"
            ]
          },
          "metadata": {
            "needs_background": "light"
          }
        }
      ]
    },
    {
      "cell_type": "code",
      "metadata": {
        "id": "02XcxpeD764H"
      },
      "source": [
        "# Now, load the pretrained embeddings generated via node2vec with d = 128: pretrained_node2vec_embeddings_128.emb. \n",
        "# The goal is to generate the plot with a same method, but by varying the value of d. \n",
        "# We are providing the pre-trained embedding since generating the embeddings takes several hours.\n",
        "# So, we generated the embeddings using the same functions in Part 1 and are providing it to you. \n",
        "# You don't have to run the code again to generate the embeddings and can use the pretrained embeddings directly by running this cell. \n",
        "\n",
        "node2vec_emb = KeyedVectors.load_word2vec_format('pretrained_node2vec_embeddings_128.emb')"
      ],
      "execution_count": null,
      "outputs": []
    },
    {
      "cell_type": "code",
      "source": [
        "# Plot the classifier performance when trained using node2vec embeddings\n",
        "eval_classifier(G, labels, node2vec_emb)"
      ],
      "metadata": {
        "id": "H4szqAtuQayU",
        "colab": {
          "base_uri": "https://localhost:8080/",
          "height": 982
        },
        "outputId": "8e53db55-942e-4dcb-8610-22cb90f45c41"
      },
      "execution_count": null,
      "outputs": [
        {
          "output_type": "stream",
          "name": "stdout",
          "text": [
            "\t**Evaluating classifier performance with the embeddings**\n",
            "\n",
            " Evaluation completed using the following:\n",
            "-->  Logistic_Regression\n",
            "\n",
            "Printing evaluation results : \n",
            "\n",
            "\n",
            "Classifier :  Logistic_Regression\n",
            "\tTraining size :  0.1\n",
            "\t\tMicro F1:  0.3430673718096114\n",
            "\t\tMacro F1:  0.20423028753679837\n",
            "\tTraining size :  0.2\n",
            "\t\tMicro F1:  0.36815275617763954\n",
            "\t\tMacro F1:  0.2352865940121189\n",
            "\tTraining size :  0.3\n",
            "\t\tMicro F1:  0.38717339667458434\n",
            "\t\tMacro F1:  0.25539072686385245\n",
            "\tTraining size :  0.4\n",
            "\t\tMicro F1:  0.39338023296044283\n",
            "\t\tMacro F1:  0.2703476521894938\n",
            "\tTraining size :  0.5\n",
            "\t\tMicro F1:  0.3997227997227997\n",
            "\t\tMacro F1:  0.2739118178852345\n",
            "\tTraining size :  0.6\n",
            "\t\tMicro F1:  0.4119278779472954\n",
            "\t\tMacro F1:  0.29106025884779474\n",
            "\tTraining size :  0.7\n",
            "\t\tMicro F1:  0.41047729918509895\n",
            "\t\tMacro F1:  0.28826471994007125\n",
            "\tTraining size :  0.8\n",
            "\t\tMicro F1:  0.4138413142257952\n",
            "\t\tMacro F1:  0.2952934936806025\n",
            "\tTraining size :  0.9\n",
            "\t\tMicro F1:  0.4145995747696669\n",
            "\t\tMacro F1:  0.2952550742831733\n",
            "\t---------------------------------------\n",
            "\t Average Micro F1 :  0.393593624830326\n",
            "\t Average Macro F1 :  0.26767118058212663\n"
          ]
        },
        {
          "output_type": "display_data",
          "data": {
            "image/png": "[encoded data removed]",
            "text/plain": [
              "<Figure size 432x288 with 1 Axes>"
            ]
          },
          "metadata": {
            "needs_background": "light"
          }
        }
      ]
    },
    {
      "cell_type": "markdown",
      "metadata": {
        "id": "HoiTOGeDkHtB"
      },
      "source": [
        "## Answer these questions below: \n",
        "\n",
        "(Q1) Report the performance of SVD(d=16) and node2vec(d=16) in terms of average micro F1 and average macro F1. Which is better? [0.5 points]\n"
      ]
    },
    {
      "cell_type": "markdown",
      "metadata": {
        "id": "E9iTKiHJKNuk"
      },
      "source": [
        "**Answer 1**: SVD's Average Micro F1 is 0.2108214339262717\n",
        " Average Macro F1 is 0.05871011788431715. Node2vec's Average Micro F1 is 361701707499168 Average Macro F1 is 0.18321560316331198. Node2vec is much better than SVD because Node2vec's average micro F1 and average macro F1 are both larger than SVD."
      ]
    },
    {
      "cell_type": "markdown",
      "metadata": {
        "id": "E78X_SrTKPK8"
      },
      "source": [
        "\n",
        "(Q2) If node2vec performs better than SVD, give **two** reasons why. Alternatively, if SVD performs better than node2vec, give **two** reasons why [0.5 points]\n"
      ]
    },
    {
      "cell_type": "markdown",
      "metadata": {
        "id": "C9c3RxyMKShB"
      },
      "source": [
        "**Answer 2**:  1.SVD Embeddings requires huge memory to store adjacency matrix but node2vec learn a mapping of nodes to a low-dimensional space of features that maximizes the likelihood of preserving network neighborhoods of nodes and do not need huge memory. 2. SVD is linear, but in node2vec, the random walk is biased with p(BFS) and q(DFS). 3.SVD can not incorporate node, edge features.\n"
      ]
    },
    {
      "cell_type": "markdown",
      "metadata": {
        "id": "_03gwhYvKMFk"
      },
      "source": [
        "\n",
        "(Q3) What is the effect of changing the dimensionality of the **node2vec** embeddings on the prediction task? \n",
        "\n",
        "In this part, compare the model performance on the node classification task of **_d = 16_** versus **_d = 128_**. These are the two plots you generated using the pretrained embeddings. \n",
        "\n",
        "In your answer, report **Average Micro F1** and **Average Macro F1 scores** and their **performace** when measured with respect to F1 scores as training size increases. Compare the values. Which dimension size performs better? [0.5 points]. \n"
      ]
    },
    {
      "cell_type": "markdown",
      "metadata": {
        "id": "ipl1IXsrKWJE"
      },
      "source": [
        "**Answer 3**: F1 score is similar between d=16 and d=128 when traning size is 0.1. However, when traning size increases, d=128's F1 score increases dramatically while d=16's F1 score changes little. When d increases from 16 to 128, the Average Micro F1(from 0.361701707499168 to 0.393593624830326) and Average Macro F1(from 0.18321560316331198 to 0.26767118058212663) increase a little which means d=128 performs better. "
      ]
    }
  ]
}